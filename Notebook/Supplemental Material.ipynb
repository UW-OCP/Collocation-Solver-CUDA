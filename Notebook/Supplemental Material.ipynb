{
 "cells": [
  {
   "cell_type": "markdown",
   "metadata": {},
   "source": [
    "# _Accelerating a Collocation Method for Solving Optimal Control Problems Using a GPU_"
   ]
  },
  {
   "cell_type": "markdown",
   "metadata": {},
   "source": [
    "## Example Evaluation"
   ]
  },
  {
   "cell_type": "markdown",
   "metadata": {},
   "source": [
    "This is the supplemental material for the research article **Accelerating a Collocation Method for Solving Optimal Control Problems Using a GPU** by Chaoyi Yang and Brian C. Fabien."
   ]
  },
  {
   "cell_type": "markdown",
   "metadata": {},
   "source": [
    "### Example: Container transfer problem\n",
    "\n",
    "This is a problem of transferring container from a ship to a cargo truck. \n",
    "The problem is to minimize the swing during the transfer where  the container crane is driven by a hoist motor and a trolley drive motor. \n",
    "The problem can be modelled as follows:"
   ]
  },
  {
   "cell_type": "markdown",
   "metadata": {},
   "source": [
    "$$\\begin{equation*}\n",
    "    J = \\int_{0}^{1} p(1 + 0.01(u_{1}(t)^{2} + u_{2}(t)^{2})\\ dt,\n",
    "\\end{equation*}$$\n",
    "subject to the dynamic equations\n",
    "$$\\begin{align*}\n",
    "    \\dot{x}_{1}(t) &= p x_{4}(t), \\\\\n",
    "    \\dot{x}_{2}(t) &= p x_{5}(t), \\\\\n",
    "    \\dot{x}_{3}(t) &= p x_{6}(t), \\\\\n",
    "    \\dot{x}_{4}(t) &= p(u_{1}(t) + 17.2656 x_{3}(t)), \\\\\n",
    "    \\dot{x}_{5}(t) &= p u_{2}(t), \\\\\n",
    "    \\dot{x}_{6}(t) &= -\\frac{p}{x_{2}(t)}[u_{1}(t) + 27.0756 x_{3}(t) + 2 x_{5}(t) x_{6}(t)], \n",
    "\\end{align*}$$\n",
    "and the boundary conditions\n",
    "$$\\begin{align*}\n",
    "    x(0) &= [0, 22, 0, 0, -1, 0]^{T}, \\\\\n",
    "    x(1) &= [10, 14, 0, 2.5, 0, 0]^{T},\n",
    "\\end{align*}$$\n",
    "and the inequality constraints\n",
    "$$\\begin{align*}\n",
    "    \\left | u_{1}(t) \\right | \\leq 2.83374, \\forall t \\in [0, 1], \\\\\n",
    "    -0.80865 \\leq u_{2}(t) \\leq 0.71265, \\forall t \\in [0, 1].\n",
    "\\end{align*}$$"
   ]
  },
  {
   "cell_type": "markdown",
   "metadata": {},
   "source": [
    "state vs time             |  state vs time\n",
    ":-------------------------:|:-------------------------:\n",
    "<img src=\"./container_transfer_states1.eps\" width=\"400\" />  |  <img src=\"./container_transfer_states2.eps\" width=\"400\" /> "
   ]
  },
  {
   "cell_type": "markdown",
   "metadata": {},
   "source": [
    "state vs time             |  state vs time\n",
    ":-------------------------:|:-------------------------:\n",
    "![](./container_transfer_states1.eps)  |  ![](./container_transfer_states2.eps)"
   ]
  },
  {
   "cell_type": "markdown",
   "metadata": {},
   "source": [
    "state vs time             |  state vs time\n",
    ":-------------------------:|:-------------------------:\n",
    "<img src=\"./container_transfer_states1.png\" width=\"400\" />  |  <img src=\"./container_transfer_states2.png\" width=\"400\" /> "
   ]
  },
  {
   "cell_type": "code",
   "execution_count": null,
   "metadata": {},
   "outputs": [],
   "source": []
  }
 ],
 "metadata": {
  "kernelspec": {
   "display_name": "Python 3",
   "language": "python",
   "name": "python3"
  },
  "language_info": {
   "codemirror_mode": {
    "name": "ipython",
    "version": 3
   },
   "file_extension": ".py",
   "mimetype": "text/x-python",
   "name": "python",
   "nbconvert_exporter": "python",
   "pygments_lexer": "ipython3",
   "version": "3.7.4"
  }
 },
 "nbformat": 4,
 "nbformat_minor": 2
}
