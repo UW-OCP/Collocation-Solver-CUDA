{
 "cells": [
  {
   "cell_type": "markdown",
   "metadata": {},
   "source": [
    "# _Accelerating a Collocation Method for Solving Optimal Control Problems Using a GPU_"
   ]
  },
  {
   "cell_type": "markdown",
   "metadata": {},
   "source": [
    "## Example Evaluation"
   ]
  },
  {
   "cell_type": "markdown",
   "metadata": {},
   "source": [
    "This is the supplemental material for the research article **Accelerating a Collocation Method for Solving Optimal Control Problems Using a GPU** by _Chaoyi Yang_ and _Brian C. Fabien_.\n",
    "All the examples shown are solved by the solver given in this repo."
   ]
  },
  {
   "cell_type": "markdown",
   "metadata": {},
   "source": [
    "### Example: Container transfer problem\n",
    "\n",
    "This is a problem of transferring container from a ship to a cargo truck. \n",
    "The problem is to minimize the swing during the transfer where  the container crane is driven by a hoist motor and a trolley drive motor. \n",
    "The problem can be modelled as follows:"
   ]
  },
  {
   "cell_type": "markdown",
   "metadata": {},
   "source": [
    "$$\\begin{equation*}\n",
    "    J = \\int_{0}^{1} p(1 + 0.01(u_{1}(t)^{2} + u_{2}(t)^{2})\\ dt,\n",
    "\\end{equation*}$$\n",
    "subject to the dynamic equations\n",
    "$$\\begin{align*}\n",
    "    \\dot{x}_{1}(t) &= p x_{4}(t), \\\\\n",
    "    \\dot{x}_{2}(t) &= p x_{5}(t), \\\\\n",
    "    \\dot{x}_{3}(t) &= p x_{6}(t), \\\\\n",
    "    \\dot{x}_{4}(t) &= p(u_{1}(t) + 17.2656 x_{3}(t)), \\\\\n",
    "    \\dot{x}_{5}(t) &= p u_{2}(t), \\\\\n",
    "    \\dot{x}_{6}(t) &= -\\frac{p}{x_{2}(t)}[u_{1}(t) + 27.0756 x_{3}(t) + 2 x_{5}(t) x_{6}(t)], \n",
    "\\end{align*}$$\n",
    "and the boundary conditions\n",
    "$$\\begin{align*}\n",
    "    x(0) &= [0, 22, 0, 0, -1, 0]^{T}, \\\\\n",
    "    x(1) &= [10, 14, 0, 2.5, 0, 0]^{T},\n",
    "\\end{align*}$$\n",
    "and the inequality constraints\n",
    "$$\\begin{align*}\n",
    "    \\left | u_{1}(t) \\right | \\leq 2.83374, \\forall t \\in [0, 1], \\\\\n",
    "    -0.80865 \\leq u_{2}(t) \\leq 0.71265, \\forall t \\in [0, 1].\n",
    "\\end{align*}$$"
   ]
  },
  {
   "cell_type": "markdown",
   "metadata": {},
   "source": [
    "The initial guesses are obtained by solving the unconstrained problem with all the unknown variables being constants with N = 101 nodes.\n",
    "The final converged solution has a mesh of N = 108 nodes.\n",
    "The states, costates, controls, and Lagrange multipliers from the converged solution are shown in the figures below."
   ]
  },
  {
   "cell_type": "markdown",
   "metadata": {},
   "source": [
    "state vs time             |  state vs time\n",
    ":------------------------:|:-------------------------:\n",
    "<img src=\"./images/container_transfer_states1.png\" width=\"200\" />  |  <img src=\"./images/container_transfer_states2.png\" width=\"200\" /> \n",
    "\n",
    "costate vs time           |  costate vs time\n",
    ":------------------------:|:------------------------:\n",
    "<img src=\"./images/container_transfer_costates1.png\" width=\"200\" />  |  <img src=\"./images/container_transfer_costates2.png\" width=\"200\" /> \n",
    "\n",
    "co-parameter vs time      |  control vs time\n",
    ":------------------------:|:------------------------:\n",
    "<img src=\"./images/container_transfer_coparameter.png\" width=\"200\" />  |  <img src=\"./images/container_transfer_controls.png\" width=\"200\" /> \n",
    "\n",
    "multiplier vs time        |  multiplier vs time\n",
    ":------------------------:|:------------------------:\n",
    "<img src=\"./images/container_transfer_multipliers1.png\" width=\"200\" />  |  <img src=\"./images/container_transfer_multipliers2.png\" width=\"200\" /> "
   ]
  },
  {
   "cell_type": "markdown",
   "metadata": {},
   "source": [
    "### Example: Underwater vehicle problem\n",
    "\n",
    "This is a high dimensional and highly nonlinear optimal control problem. \n",
    "The problem is to control an underwater vehicle with ten state variables and four control variables respectively. \n",
    "The objective is to minimize the energy control corresponding to:"
   ]
  },
  {
   "cell_type": "markdown",
   "metadata": {},
   "source": [
    "$$\\begin{equation*}\n",
    "J =  \\int_{0}^{1} \\sum_{i = 1}^{4} u_{i}^{2}\\ dt,\n",
    "\\end{equation*}$$\n",
    "subject to the dynamic equations\n",
    "$$\\begin{align*}\n",
    "\\dot{x}_1 & = \\cos(x_{6}) \\cos(x_{5}) x_{7} + r_{x}, \\\\\n",
    "\\dot{x}_2 & = \\sin(x_{6}) \\cos(x_{5}) x_{7}, \\\\\n",
    "\\dot{x}_3 & = -\\sin(x_{5}) x_{7} + r_{z}, \\\\\n",
    "\\dot{x}_4 & = x_{8} + \\sin(x_{4}) \\tan(x_{5}) x_{9} + \\cos(x_{4}) \\tan(x_{5}) x_{10}, \\\\\n",
    "\\dot{x}_5 & = \\cos(x_{4}) x_{9} - \\sin(x_{4}) x_{10}, \\\\\n",
    "\\dot{x}_6 & = \\frac{\\sin(x_{4})}{\\cos(x_{5})} x_{9} + \\frac{\\cos(x_{4})}{\\cos(x_{5})} x_{10}, \\\\\n",
    "\\dot{x}_7 & = u_{1}, \\\\\n",
    "\\dot{x}_8 & = u_{2}, \\\\\n",
    "\\dot{x}_9 & = u_{3}, \\\\\n",
    "\\dot{x}_{10} & = u_{4},\n",
    "\\end{align*}$$\n",
    "and the boundary conditions\n",
    "$$\\begin{align*}\n",
    "    x(0) &= [0, 0, 0.02, \\frac{\\pi}{2}, 0.1, -\\frac{\\pi}{4}, 1.0, 0, 0.5, 0.1]^{T}, \\\\\n",
    "    x(1) &= [1.0, 0.5, 0, \\frac{\\pi}{2}, 0, 0, 0, 0, 0, 0]^{T},\n",
    "\\end{align*}$$\n",
    "and eight control variable inequality constraints\n",
    "$$\\begin{equation*}\n",
    "    -15 \\leq u_{i}(t) \\leq 15, \\forall t \\in [0, 1], i = 1, \\ldots, 4.\n",
    "\\end{equation*}$$\n",
    "Here, $x_{1}-x_{3}$ represent the position of the center of the mass of the vehicle and $x_{4}-x_{6}$ \n",
    "denote the angular orientation of the vehicle.\n",
    "$x_{4}$ specifies the roll motion, while $x_{5}$ and $x_{6}$ describe the pitch and the yaw motions.\n",
    "The model assumes the vehicle moves with velocity $x_{7}$ and angular velocities $x_{8}-x_{10}$.\n",
    "$u_{1}$ denotes the vehicle acceleration and $u_{2}-u_{4}$ refer to the angular accelerations."
   ]
  },
  {
   "cell_type": "markdown",
   "metadata": {},
   "source": [
    "The initial estimates for the states, costates, and controls are obtained by solving an unconstrained version of the problem where there is no bounds on the control inputs. \n",
    "All the other unknown variables are set as constants. \n",
    "The initial estimate uses a uniform mesh with $N = 101$ nodes.\n",
    "\n",
    "Using this initial estimate, the solver successfully solves the problem with $N = 295$ nodes. \n",
    "The solution for all the variables from the collocation solver is shown in figures below."
   ]
  },
  {
   "cell_type": "markdown",
   "metadata": {},
   "source": [
    "state vs time             |  state vs time\n",
    ":------------------------:|:-------------------------:\n",
    "<img src=\"./images/underwater_vehicle_states1.png\" width=\"200\" />  |  <img src=\"./images/underwater_vehicle_states2.png\" width=\"200\" /> \n",
    "\n",
    "state vs time             |  costate vs time\n",
    ":------------------------:|:-------------------------:\n",
    "<img src=\"./images/underwater_vehicle_states3.png\" width=\"200\" />  |  <img src=\"./images/underwater_vehicle_costates1.png\" width=\"200\" /> \n",
    "\n",
    "costate vs time           |  costate vs time\n",
    ":------------------------:|:------------------------:\n",
    "<img src=\"./images/underwater_vehicle_costates2.png\" width=\"200\" />  |  <img src=\"./images/underwater_vehicle_costates3.png\" width=\"200\" /> \n",
    "\n",
    "control vs time           |  control vs time\n",
    ":------------------------:|:------------------------:\n",
    "<img src=\"./images/underwater_vehicle_controls1.png\" width=\"200\" />  |  <img src=\"./images/underwater_vehicle_controls2.png\" width=\"200\" /> \n",
    "\n",
    "multiplier vs time        |  multiplier vs time\n",
    ":------------------------:|:------------------------:\n",
    "<img src=\"./images/underwater_vehicle_multipliers1.png\" width=\"200\" />  |  <img src=\"./images/underwater_vehicle_multipliers2.png\" width=\"200\" /> \n",
    "\n",
    "multiplier vs time        |  multiplier vs time\n",
    ":------------------------:|:------------------------:\n",
    "<img src=\"./images/underwater_vehicle_multipliers3.png\" width=\"200\" />  |  <img src=\"./images/underwater_vehicle_multipliers4.png\" width=\"200\" /> "
   ]
  },
  {
   "cell_type": "markdown",
   "metadata": {},
   "source": [
    "### Example: Freespace rocket problem\n",
    "\n",
    "This is problem about a freespace rocket model with three states and one control.\n",
    "The aim is to fly in minimum time from the initial location to the final location where the final time is represented with the parameter variable $p$.\n",
    "The problem is formulated as follows:"
   ]
  },
  {
   "cell_type": "markdown",
   "metadata": {},
   "source": [
    "$$\\begin{equation*}\n",
    "J =  \\int_{0}^{1} p(1 + 0.1 u(t)^{2})\\ dt,\n",
    "\\end{equation*}$$\n",
    "subject to the dynamic equations\n",
    "$$\\begin{align*}\n",
    "\\dot{y}_1(t) & = p y_{2}(t), \\\\\n",
    "\\dot{y}_2(t) & = p \\frac{u(t) - 0.2 y_{2}(t)^{2}}{y_{3}(t)}, \\\\\n",
    "\\dot{y}_3(t) & = -0.01 p u(t)^{2},\n",
    "\\end{align*}$$\n",
    "and the boundary conditions\n",
    "$$\\begin{align*}\n",
    "    x(0) &= [0, 0, 1.0]^{T}, \\\\\n",
    "    x(1) &= [10.0, 0]^{T},\n",
    "\\end{align*}$$\n",
    "and two control variable inequality constraints\n",
    "$$\\begin{equation*}\n",
    "    -1.1 \\leq u(t) \\leq 1.1, \\forall t \\in [0, 1],\n",
    "\\end{equation*}$$\n",
    "and two state variable inequality constraints\n",
    "$$\\begin{align*}\n",
    "    -0.1 \\leq y_{2}(t) \\leq 1.7, \\forall t \\in [0, 1].\n",
    "\\end{align*}$$\n",
    "The three states denote the distance, velocity, and acceleration of the rocket. "
   ]
  },
  {
   "cell_type": "markdown",
   "metadata": {},
   "source": [
    "The initial guesses are obtained by solving a relaxed problem where the cost functional is $J =  \\int_{0}^{1} p(1 + u(t)^{2})\\ dt$.\n",
    "The final solution obtained has $N = 83$ time nodes with the optimal time $t_{\\rm f} = p = 7.43$.\n",
    "The variables of the solution are shown in figures below."
   ]
  },
  {
   "cell_type": "markdown",
   "metadata": {},
   "source": [
    "state vs time             |  costate vs time\n",
    ":------------------------:|:-------------------------:\n",
    "<img src=\"./images/freespace_rocket_states.png\" width=\"200\" />  |  <img src=\"./images/freespace_rocket_costates.png\" width=\"200\" /> \n",
    "\n",
    "co-parameter vs time      |  control vs time\n",
    ":------------------------:|:------------------------:\n",
    "<img src=\"./images/freespace_rocket_coparameter.png\" width=\"200\" />  |  <img src=\"./images/freespace_rocket_controls.png\" width=\"200\" /> \n",
    "\n",
    "multiplier vs time        |  multiplier vs time\n",
    ":------------------------:|:------------------------:\n",
    "<img src=\"./images/freespace_rocket_multipliers1.png\" width=\"200\" />  |  <img src=\"./images/freespace_rocket_multipliers2.png\" width=\"200\" /> "
   ]
  },
  {
   "cell_type": "markdown",
   "metadata": {},
   "source": [
    "### Example: Trolley problem\n",
    "\n",
    "This is a problem considering a trolley of mass $m_{1}$ moving in a high rack storage area with a load of mass $m_{2}$ attached to the trolley by a rigid cable of lengh $l$.\n",
    "The problem is formulated as follows:"
   ]
  },
  {
   "cell_type": "markdown",
   "metadata": {},
   "source": [
    "For $t_{\\rm f} = 2.7$, minimize\n",
    "$$\\begin{equation*}\n",
    "J =  \\int_{0}^{t_{\\rm f}} u^{2} + 5x_{4}^{2}\\ dt,\n",
    "\\end{equation*}$$\n",
    "subject to the dynamic equations\n",
    "$$\\begin{align*}\n",
    "\\dot{x}_1 & = x_{3}, \\\\\n",
    "\\dot{x}_2 & = x_{4}, \\\\\n",
    "\\dot{x}_3 & = \\frac{m_{2}^{2} l^{3} \\sin{(x_{2})} x_{4}^{2} - m_{2} l^{2} u + m_{2} I_{y} l x_{4}^{2} \\sin{(x_{2})} - I_{y} u + m_{2}^{2} l^{2} g \\cos{(x_{2})} \\sin{(x_{2})}}{-m_{1} m_{2} l^{2} - m_{1} I_{y} - m_{2}^{2} l^{2} - m_{2} I_{y} + m_{2}^{2} l^{2} \\cos{(x_{2})}^{2}}, \\\\\n",
    "\\dot{x}_4 & = \\frac{m_{2} l (m_{2} l \\cos{(x_{2})} x_{4}^{2} \\sin{(x_{2})} - \\cos{(x_{2})} u + g \\sin{x_{2}}(m_{1} + m_{2}))}{-m_{1} m_{2} l^{2} - m_{1} I_{y} - m_{2}^{2} l^{2} - m_{2} I_{y} + m_{2}^{2} l^{2} \\cos{(x_{2})}^{2}},\n",
    "\\end{align*}$$\n",
    "and the boundary conditions\n",
    "$$\\begin{align*}\n",
    "    x(0) &= [0, 0, 0, 0]^{T}, \\\\\n",
    "    x(t_{\\rm f}) &= [1.0, 0, 0, 0]^{T},\n",
    "\\end{align*}$$\n",
    "and two control variable inequality constraints\n",
    "$$\\begin{equation*}\n",
    "    -0.5 \\leq u(t) \\leq 0.5, \\forall t \\in [0, 1],\n",
    "\\end{equation*}$$\n",
    "where $g = 9.81$, $m_1 = 0.3$, $m_2 = 0.5$, $l = 0.75$, and $I_{y} = 0.002$.\n",
    "Here, $x_{1}$ and $x_{3}$ represent the coordinate of the trolley and its velocity in x direction, while $x_{2}$ and $x_{4}$ denote the angle between the cable and the vertical axis and the corresponding velocity. "
   ]
  },
  {
   "cell_type": "markdown",
   "metadata": {},
   "source": [
    "The initial estimates are obtained by solving the problem without inequality constraint with $N = 101$ time nodes.\n",
    "The final converged solution has $N = 213$ time nodes and is shown in figures below."
   ]
  },
  {
   "cell_type": "markdown",
   "metadata": {},
   "source": [
    "state vs time             |  costate vs time\n",
    ":------------------------:|:-------------------------:\n",
    "<img src=\"./images/trolley_states.png\" width=\"200\" />  |  <img src=\"./images/trolley_costates.png\" width=\"200\" /> \n",
    "\n",
    "control vs time           |  multiplier vs time\n",
    ":------------------------:|:------------------------:\n",
    "<img src=\"./images/trolley_controls.png\" width=\"200\" />  |  <img src=\"./images/trolley_multipliers1.png\" width=\"200\" /> "
   ]
  },
  {
   "cell_type": "markdown",
   "metadata": {},
   "source": [
    "**All the examples are solved using the solver in thie repo. The source files for each example is given in the directory \"source\" which can be directly used by the solver.**"
   ]
  },
  {
   "cell_type": "code",
   "execution_count": null,
   "metadata": {},
   "outputs": [],
   "source": []
  }
 ],
 "metadata": {
  "kernelspec": {
   "display_name": "Python 3",
   "language": "python",
   "name": "python3"
  },
  "language_info": {
   "codemirror_mode": {
    "name": "ipython",
    "version": 3
   },
   "file_extension": ".py",
   "mimetype": "text/x-python",
   "name": "python",
   "nbconvert_exporter": "python",
   "pygments_lexer": "ipython3",
   "version": "3.7.4"
  }
 },
 "nbformat": 4,
 "nbformat_minor": 2
}
